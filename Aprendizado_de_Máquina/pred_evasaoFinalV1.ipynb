{
 "cells": [
  {
   "cell_type": "code",
   "execution_count": null,
   "id": "6c5cb5e4",
   "metadata": {},
   "outputs": [],
   "source": [
    "from sklearn.model_selection import GridSearchCV\n",
    "import pandas as pd\n",
    "import numpy as np\n",
    "import matplotlib.pyplot as plt\n",
    "import seaborn as sns\n",
    "from sklearn.model_selection import train_test_split, cross_val_score\n",
    "from sklearn.preprocessing import StandardScaler, OneHotEncoder\n",
    "from sklearn.compose import ColumnTransformer\n",
    "from sklearn.pipeline import Pipeline\n",
    "from sklearn.ensemble import RandomForestClassifier, GradientBoostingClassifier\n",
    "from sklearn.linear_model import LogisticRegression\n",
    "from sklearn.metrics import classification_report, confusion_matrix, roc_auc_score, roc_curve\n",
    "from sklearn.metrics import precision_recall_curve, f1_score\n",
    "from imblearn.over_sampling import SMOTE\n",
    "from imblearn.pipeline import Pipeline as ImbPipeline\n",
    "%pip install shap\n",
    "import shap\n",
    "import warnings"
   ]
  },
  {
   "cell_type": "code",
   "execution_count": 24,
   "id": "99097b96",
   "metadata": {},
   "outputs": [],
   "source": [
    "df = pd.read_csv('dataset.csv')"
   ]
  },
  {
   "cell_type": "code",
   "execution_count": null,
   "id": "0cd5135d",
   "metadata": {},
   "outputs": [],
   "source": [
    "print(df.columns.tolist())"
   ]
  },
  {
   "cell_type": "code",
   "execution_count": 26,
   "id": "5c863d15",
   "metadata": {},
   "outputs": [],
   "source": [
    "df['evasao'] = df['Target'].apply(\n",
    "    lambda x: 1 if x == 'Dropout' else 0 if x == 'Graduate' else np.nan\n",
    ").astype('Int64')\n",
    "df_clean = df.dropna(subset=['evasao']).copy()\n"
   ]
  },
  {
   "cell_type": "code",
   "execution_count": null,
   "id": "558e0760",
   "metadata": {},
   "outputs": [],
   "source": [
    "print(\"\\nDistribuição da variável target:\")\n",
    "print(df_clean['evasao'].value_counts().rename(index={0: 'Não Evasão', 1: 'Evasão'}))\n",
    "print(f\"Taxa de evasão: {df_clean['evasao'].mean():.2%}\")"
   ]
  },
  {
   "cell_type": "code",
   "execution_count": 28,
   "id": "b11d4206",
   "metadata": {},
   "outputs": [],
   "source": [
    "features_keep = [\n",
    "    'Age at enrollment',\n",
    "    'Gender',\n",
    "    'Daytime/evening attendance',\n",
    "    'Scholarship holder',\n",
    "    'Educational special needs',\n",
    "    'Curricular units 1st sem (approved)',\n",
    "    'Curricular units 1st sem (enrolled)',\n",
    "    'Curricular units 1st sem (grade)',\n",
    "    'Curricular units 2nd sem (approved)',\n",
    "    'Curricular units 2nd sem (enrolled)',\n",
    "    'Curricular units 2nd sem (grade)'\n",
    "]\n",
    "\n",
    "X = df_clean[features_keep].copy()\n",
    "y = df_clean['evasao']"
   ]
  },
  {
   "cell_type": "code",
   "execution_count": 29,
   "id": "2a55f3ef",
   "metadata": {},
   "outputs": [],
   "source": [
    "numeric_features = [\n",
    "    'Age at enrollment',\n",
    "    'Curricular units 1st sem (approved)',\n",
    "    'Curricular units 1st sem (enrolled)',\n",
    "    'Curricular units 1st sem (grade)',\n",
    "    'Curricular units 2nd sem (approved)',\n",
    "    'Curricular units 2nd sem (enrolled)',\n",
    "    'Curricular units 2nd sem (grade)'\n",
    "]\n",
    "\n",
    "categorical_features = [\n",
    "    'Gender',\n",
    "    'Daytime/evening attendance',\n",
    "    'Scholarship holder',\n",
    "    'Educational special needs'\n",
    "]"
   ]
  },
  {
   "cell_type": "code",
   "execution_count": 32,
   "id": "f9f942aa",
   "metadata": {},
   "outputs": [],
   "source": [
    "from sklearn.impute import SimpleImputer\n",
    "from sklearn.preprocessing import StandardScaler, OneHotEncoder\n",
    "from sklearn.compose import ColumnTransformer\n",
    "from sklearn.pipeline import Pipeline\n",
    "\n",
    "numeric_transformer = Pipeline(steps=[\n",
    "    ('imputer', SimpleImputer(strategy='median')),\n",
    "    ('scaler', StandardScaler())  \n",
    "])\n",
    "\n",
    "categorical_transformer = Pipeline(steps=[\n",
    "    ('imputer', SimpleImputer(strategy='most_frequent')),\n",
    "    ('onehot', OneHotEncoder(drop='first', sparse_output=False, handle_unknown='ignore'))\n",
    "])\n",
    "preprocessor = ColumnTransformer(\n",
    "    transformers=[\n",
    "        ('num', numeric_transformer, numeric_features),\n",
    "        ('cat', categorical_transformer, categorical_features)\n",
    "    ]\n",
    ")"
   ]
  },
  {
   "cell_type": "code",
   "execution_count": null,
   "id": "bb0bb42a",
   "metadata": {},
   "outputs": [
    {
     "name": "stdout",
     "output_type": "stream",
     "text": [
      "\n",
      "Divisão dos dados:\n",
      "Treino: 2904 amostras (39.15% evasão)\n",
      "Teste:  726 amostras (39.12% evasão)\n"
     ]
    }
   ],
   "source": [
    "X_train, X_test, y_train, y_test = train_test_split(\n",
    "    X, y, test_size=0.2, random_state=42, stratify=y\n",
    ")\n"
   ]
  },
  {
   "cell_type": "code",
   "execution_count": null,
   "id": "d9ff0b78",
   "metadata": {},
   "outputs": [
    {
     "name": "stdout",
     "output_type": "stream",
     "text": [
      "\n",
      "🚀 OTIMIZANDO GRADIENT BOOSTING...\n",
      "==================================================\n",
      "⏳ Executando Grid Search...\n",
      "Fitting 5 folds for each of 32 candidates, totalling 160 fits\n",
      "\n",
      "🎯 Melhores parâmetros:\n",
      "  classifier__learning_rate: 0.05\n",
      "  classifier__max_depth: 3\n",
      "  classifier__min_samples_leaf: 50\n",
      "  classifier__n_estimators: 200\n",
      "  classifier__subsample: 1.0\n"
     ]
    }
   ],
   "source": [
    "from sklearn.ensemble import GradientBoostingClassifier\n",
    "from sklearn.model_selection import GridSearchCV\n",
    "from sklearn.pipeline import Pipeline\n",
    "\n",
    "gb_pipeline = Pipeline([\n",
    "    ('preprocessor', preprocessor),\n",
    "    ('classifier', GradientBoostingClassifier(random_state=42))\n",
    "])\n",
    "\n",
    "param_grid = {\n",
    "    'classifier__n_estimators': [200, 300],\n",
    "    'classifier__learning_rate': [0.05, 0.1],\n",
    "    'classifier__max_depth': [3, 4],\n",
    "    'classifier__min_samples_leaf': [20, 50],\n",
    "    'classifier__subsample': [0.8, 1.0],\n",
    "}\n",
    "\n",
    "grid_search = GridSearchCV(\n",
    "    estimator=gb_pipeline,\n",
    "    param_grid=param_grid,\n",
    "    cv=5,\n",
    "    scoring='roc_auc',\n",
    "    n_jobs=-1,\n",
    "    verbose=1\n",
    ")\n",
    "\n",
    "grid_search.fit(X_train, y_train)\n",
    "\n",
    "best_gb_model = grid_search.best_estimator_"
   ]
  },
  {
   "cell_type": "code",
   "execution_count": null,
   "id": "0f6ce638",
   "metadata": {},
   "outputs": [],
   "source": [
    "from sklearn.metrics import (\n",
    "    accuracy_score, precision_score, recall_score, f1_score,\n",
    "    roc_auc_score, confusion_matrix, classification_report,\n",
    "    average_precision_score\n",
    ")\n",
    "\n",
    "\n",
    "y_pred = best_gb_model.predict(X_test)\n",
    "y_proba = best_gb_model.predict_proba(X_test)[:, 1]\n",
    "\n",
    "metrics = {\n",
    "    'AUC': roc_auc_score(y_test, y_proba),\n",
    "    'PR-AUC': average_precision_score(y_test, y_proba),\n",
    "    'Accuracy': accuracy_score(y_test, y_pred),\n",
    "    'Precision': precision_score(y_test, y_pred, zero_division=0),\n",
    "    'Recall': recall_score(y_test, y_pred, zero_division=0),\n",
    "    'F1-Score': f1_score(y_test, y_pred, zero_division=0)\n",
    "}\n",
    "\n",
    "print(\"\\nMétricas Finais:\")\n",
    "for metric, value in metrics.items():\n",
    "    print(f\"{metric:12}: {value:.4f}\")\n",
    "\n",
    "print(\"\\nClassification Report:\")\n",
    "print(classification_report(y_test, y_pred, target_names=['Não Evasão', 'Evasão']))\n",
    "\n",
    "print(\"\\nConfusion Matrix:\")\n",
    "cm = confusion_matrix(y_test, y_pred)\n",
    "print(cm)"
   ]
  },
  {
   "cell_type": "code",
   "execution_count": null,
   "id": "af94de97",
   "metadata": {},
   "outputs": [],
   "source": [
    "import json, joblib\n",
    "from pathlib import Path\n",
    "from sklearn.metrics import precision_recall_curve\n",
    "\n",
    "MODEL_PATH = Path(\"gradient_boosting_dropout.pkl\")\n",
    "META_PATH  = Path(\"model_meta.json\")\n",
    "\n",
    "joblib.dump(best_gb_model, MODEL_PATH)\n",
    "\n",
    "try:\n",
    "    _prec, _rec, _thr = precision_recall_curve(y_test, y_proba)\n",
    "    _f1s = 2 * _prec * _rec / (np.clip(_prec + _rec, 1e-9, None))\n",
    "    _best_idx = int(np.argmax(_f1s))\n",
    "    best_threshold = float(_thr[_best_idx]) if _best_idx < len(_thr) else 0.5\n",
    "except Exception:\n",
    "    best_threshold = 0.5  \n",
    "\n",
    "risk_bands = {\n",
    "    \"low\": 0.40,\n",
    "    \"high\": 0.70\n",
    "}\n",
    "\n",
    "meta = {\n",
    "    \"model_file\": str(MODEL_PATH),\n",
    "    \"features_expected\": list(X.columns),\n",
    "    \"metrics\": metrics,             \n",
    "    \"best_threshold\": best_threshold,\n",
    "    \"risk_bands\": risk_bands\n",
    "}\n",
    "with open(META_PATH, \"w\") as f:\n",
    "    json.dump(meta, f, indent=2)\n"
   ]
  }
 ],
 "metadata": {
  "kernelspec": {
   "display_name": "Python 3",
   "language": "python",
   "name": "python3"
  },
  "language_info": {
   "codemirror_mode": {
    "name": "ipython",
    "version": 3
   },
   "file_extension": ".py",
   "mimetype": "text/x-python",
   "name": "python",
   "nbconvert_exporter": "python",
   "pygments_lexer": "ipython3",
   "version": "3.12.10"
  }
 },
 "nbformat": 4,
 "nbformat_minor": 5
}
